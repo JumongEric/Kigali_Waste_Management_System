{
  "nbformat": 4,
  "nbformat_minor": 0,
  "metadata": {
    "colab": {
      "provenance": [],
      "gpuType": "T4",
      "include_colab_link": true
    },
    "kernelspec": {
      "name": "python3",
      "display_name": "Python 3"
    },
    "language_info": {
      "name": "python"
    },
    "accelerator": "GPU"
  },
  "cells": [
    {
      "cell_type": "markdown",
      "metadata": {
        "id": "view-in-github",
        "colab_type": "text"
      },
      "source": [
        "<a href=\"https://colab.research.google.com/github/JumongEric/Kigali_Waste_Management_System/blob/main/Waster_management_system.ipynb\" target=\"_parent\"><img src=\"https://colab.research.google.com/assets/colab-badge.svg\" alt=\"Open In Colab\"/></a>"
      ]
    },
    {
      "cell_type": "code",
      "source": [
        "import os\n",
        "import matplotlib.pyplot as plt\n",
        "import seaborn as sns\n",
        "import tensorflow as tf\n",
        "from tensorflow.keras.preprocessing.image import ImageDataGenerator"
      ],
      "metadata": {
        "id": "fXrdFWdh08Ak"
      },
      "execution_count": null,
      "outputs": []
    },
    {
      "cell_type": "code",
      "execution_count": null,
      "metadata": {
        "colab": {
          "base_uri": "https://localhost:8080/"
        },
        "id": "Gh7sTgCmn02n",
        "outputId": "5eb129b9-336e-437e-fa2d-5049197cca76"
      },
      "outputs": [
        {
          "output_type": "stream",
          "name": "stdout",
          "text": [
            "Drive already mounted at /content/drive; to attempt to forcibly remount, call drive.mount(\"/content/drive\", force_remount=True).\n"
          ]
        }
      ],
      "source": [
        "#mounting the drive\n",
        "from google.colab import drive\n",
        "drive.mount('/content/drive')"
      ]
    },
    {
      "cell_type": "code",
      "source": [
        "#data path\n",
        "import copy\n",
        "train_pat=\"/content/drive/MyDrive/Waste management system/TRAIN\"\n",
        "test_pat=\"/content/drive/MyDrive/Waste management system/Test\"\n",
        "train_path=copy.copy(train_pat)\n",
        "test_path=copy.copy(test_pat)\n"
      ],
      "metadata": {
        "id": "HyRoyupBpxeI"
      },
      "execution_count": null,
      "outputs": []
    },
    {
      "cell_type": "code",
      "source": [
        "# data augmentation but will try this later to improve generalization\n",
        "train_datagen = ImageDataGenerator(\n",
        "   shear_range=0.2,\n",
        "    zoom_range=0.2,\n",
        "    horizontal_flip=True\n",
        ")\n",
        "test_datagen= ImageDataGenerator(\n",
        "   shear_range=0.2,\n",
        "    zoom_range=0.2,\n",
        "    horizontal_flip=True\n",
        ")"
      ],
      "metadata": {
        "id": "8quTvlpEqTLc"
      },
      "execution_count": null,
      "outputs": []
    },
    {
      "cell_type": "code",
      "source": [
        "# Then with ImageData generator we can load our data.\n",
        "train_data = train_datagen.flow_from_directory(\n",
        "    train_path,\n",
        "    target_size=(224, 224),\n",
        "    batch_size=32,\n",
        "    class_mode='categorical'\n",
        ")\n",
        "\n",
        "test_data = test_datagen.flow_from_directory(\n",
        "    test_path,\n",
        "    target_size=(224, 224),\n",
        "    batch_size=32,\n",
        "    class_mode='binary'\n",
        ")"
      ],
      "metadata": {
        "colab": {
          "base_uri": "https://localhost:8080/",
          "height": 407
        },
        "id": "Jck-xxoTsiqA",
        "outputId": "1e254c3e-8697-4324-d6e5-7d5fab335c44"
      },
      "execution_count": null,
      "outputs": [
        {
          "output_type": "error",
          "ename": "FileNotFoundError",
          "evalue": "[Errno 2] No such file or directory: '/content/drive/MyDrive/Waste management system/TRAIN'",
          "traceback": [
            "\u001b[0;31m---------------------------------------------------------------------------\u001b[0m",
            "\u001b[0;31mFileNotFoundError\u001b[0m                         Traceback (most recent call last)",
            "\u001b[0;32m<ipython-input-6-3405bdac4749>\u001b[0m in \u001b[0;36m<cell line: 2>\u001b[0;34m()\u001b[0m\n\u001b[1;32m      1\u001b[0m \u001b[0;31m# Then with ImageData generator we can load our data.\u001b[0m\u001b[0;34m\u001b[0m\u001b[0;34m\u001b[0m\u001b[0m\n\u001b[0;32m----> 2\u001b[0;31m train_data = train_datagen.flow_from_directory(\n\u001b[0m\u001b[1;32m      3\u001b[0m     \u001b[0mtrain_path\u001b[0m\u001b[0;34m,\u001b[0m\u001b[0;34m\u001b[0m\u001b[0;34m\u001b[0m\u001b[0m\n\u001b[1;32m      4\u001b[0m     \u001b[0mtarget_size\u001b[0m\u001b[0;34m=\u001b[0m\u001b[0;34m(\u001b[0m\u001b[0;36m224\u001b[0m\u001b[0;34m,\u001b[0m \u001b[0;36m224\u001b[0m\u001b[0;34m)\u001b[0m\u001b[0;34m,\u001b[0m\u001b[0;34m\u001b[0m\u001b[0;34m\u001b[0m\u001b[0m\n\u001b[1;32m      5\u001b[0m     \u001b[0mbatch_size\u001b[0m\u001b[0;34m=\u001b[0m\u001b[0;36m32\u001b[0m\u001b[0;34m,\u001b[0m\u001b[0;34m\u001b[0m\u001b[0;34m\u001b[0m\u001b[0m\n",
            "\u001b[0;32m/usr/local/lib/python3.10/dist-packages/keras/src/preprocessing/image.py\u001b[0m in \u001b[0;36mflow_from_directory\u001b[0;34m(self, directory, target_size, color_mode, classes, class_mode, batch_size, shuffle, seed, save_to_dir, save_prefix, save_format, follow_links, subset, interpolation, keep_aspect_ratio)\u001b[0m\n\u001b[1;32m   1647\u001b[0m             \u001b[0;32mand\u001b[0m\u001b[0;31m \u001b[0m\u001b[0;31m`\u001b[0m\u001b[0my\u001b[0m\u001b[0;31m`\u001b[0m \u001b[0;32mis\u001b[0m \u001b[0ma\u001b[0m \u001b[0mnumpy\u001b[0m \u001b[0marray\u001b[0m \u001b[0mof\u001b[0m \u001b[0mcorresponding\u001b[0m \u001b[0mlabels\u001b[0m\u001b[0;34m.\u001b[0m\u001b[0;34m\u001b[0m\u001b[0;34m\u001b[0m\u001b[0m\n\u001b[1;32m   1648\u001b[0m         \"\"\"\n\u001b[0;32m-> 1649\u001b[0;31m         return DirectoryIterator(\n\u001b[0m\u001b[1;32m   1650\u001b[0m             \u001b[0mdirectory\u001b[0m\u001b[0;34m,\u001b[0m\u001b[0;34m\u001b[0m\u001b[0;34m\u001b[0m\u001b[0m\n\u001b[1;32m   1651\u001b[0m             \u001b[0mself\u001b[0m\u001b[0;34m,\u001b[0m\u001b[0;34m\u001b[0m\u001b[0;34m\u001b[0m\u001b[0m\n",
            "\u001b[0;32m/usr/local/lib/python3.10/dist-packages/keras/src/preprocessing/image.py\u001b[0m in \u001b[0;36m__init__\u001b[0;34m(self, directory, image_data_generator, target_size, color_mode, classes, class_mode, batch_size, shuffle, seed, data_format, save_to_dir, save_prefix, save_format, follow_links, subset, interpolation, keep_aspect_ratio, dtype)\u001b[0m\n\u001b[1;32m    561\u001b[0m         \u001b[0;32mif\u001b[0m \u001b[0;32mnot\u001b[0m \u001b[0mclasses\u001b[0m\u001b[0;34m:\u001b[0m\u001b[0;34m\u001b[0m\u001b[0;34m\u001b[0m\u001b[0m\n\u001b[1;32m    562\u001b[0m             \u001b[0mclasses\u001b[0m \u001b[0;34m=\u001b[0m \u001b[0;34m[\u001b[0m\u001b[0;34m]\u001b[0m\u001b[0;34m\u001b[0m\u001b[0;34m\u001b[0m\u001b[0m\n\u001b[0;32m--> 563\u001b[0;31m             \u001b[0;32mfor\u001b[0m \u001b[0msubdir\u001b[0m \u001b[0;32min\u001b[0m \u001b[0msorted\u001b[0m\u001b[0;34m(\u001b[0m\u001b[0mos\u001b[0m\u001b[0;34m.\u001b[0m\u001b[0mlistdir\u001b[0m\u001b[0;34m(\u001b[0m\u001b[0mdirectory\u001b[0m\u001b[0;34m)\u001b[0m\u001b[0;34m)\u001b[0m\u001b[0;34m:\u001b[0m\u001b[0;34m\u001b[0m\u001b[0;34m\u001b[0m\u001b[0m\n\u001b[0m\u001b[1;32m    564\u001b[0m                 \u001b[0;32mif\u001b[0m \u001b[0mos\u001b[0m\u001b[0;34m.\u001b[0m\u001b[0mpath\u001b[0m\u001b[0;34m.\u001b[0m\u001b[0misdir\u001b[0m\u001b[0;34m(\u001b[0m\u001b[0mos\u001b[0m\u001b[0;34m.\u001b[0m\u001b[0mpath\u001b[0m\u001b[0;34m.\u001b[0m\u001b[0mjoin\u001b[0m\u001b[0;34m(\u001b[0m\u001b[0mdirectory\u001b[0m\u001b[0;34m,\u001b[0m \u001b[0msubdir\u001b[0m\u001b[0;34m)\u001b[0m\u001b[0;34m)\u001b[0m\u001b[0;34m:\u001b[0m\u001b[0;34m\u001b[0m\u001b[0;34m\u001b[0m\u001b[0m\n\u001b[1;32m    565\u001b[0m                     \u001b[0mclasses\u001b[0m\u001b[0;34m.\u001b[0m\u001b[0mappend\u001b[0m\u001b[0;34m(\u001b[0m\u001b[0msubdir\u001b[0m\u001b[0;34m)\u001b[0m\u001b[0;34m\u001b[0m\u001b[0;34m\u001b[0m\u001b[0m\n",
            "\u001b[0;31mFileNotFoundError\u001b[0m: [Errno 2] No such file or directory: '/content/drive/MyDrive/Waste management system/TRAIN'"
          ]
        }
      ]
    },
    {
      "cell_type": "code",
      "source": [
        "#Lets check class distribution\n",
        "classes = os.listdir(train_path)\n",
        "class_counts = [len(os.listdir(os.path.join(train_path, class_name))) for class_name in classes]\n",
        "\n",
        "plt.figure(figsize=(10, 6))\n",
        "sns.barplot(x=classes, y=class_counts)\n",
        "plt.title('Class Distribution')\n",
        "plt.xlabel('Class')\n",
        "plt.ylabel('Count')\n",
        "plt.show()"
      ],
      "metadata": {
        "colab": {
          "base_uri": "https://localhost:8080/",
          "height": 245
        },
        "id": "tNy-Ai9d0yx4",
        "outputId": "486092c5-850a-4c76-9646-722e1ddc6ed7"
      },
      "execution_count": null,
      "outputs": [
        {
          "output_type": "error",
          "ename": "FileNotFoundError",
          "evalue": "[Errno 2] No such file or directory: '/content/drive/MyDrive/Waste management system/TRAIN'",
          "traceback": [
            "\u001b[0;31m---------------------------------------------------------------------------\u001b[0m",
            "\u001b[0;31mFileNotFoundError\u001b[0m                         Traceback (most recent call last)",
            "\u001b[0;32m<ipython-input-11-9a57e8efe162>\u001b[0m in \u001b[0;36m<cell line: 2>\u001b[0;34m()\u001b[0m\n\u001b[1;32m      1\u001b[0m \u001b[0;31m#Lets check class distribution\u001b[0m\u001b[0;34m\u001b[0m\u001b[0;34m\u001b[0m\u001b[0m\n\u001b[0;32m----> 2\u001b[0;31m \u001b[0mclasses\u001b[0m \u001b[0;34m=\u001b[0m \u001b[0mos\u001b[0m\u001b[0;34m.\u001b[0m\u001b[0mlistdir\u001b[0m\u001b[0;34m(\u001b[0m\u001b[0mtrain_path\u001b[0m\u001b[0;34m)\u001b[0m\u001b[0;34m\u001b[0m\u001b[0;34m\u001b[0m\u001b[0m\n\u001b[0m\u001b[1;32m      3\u001b[0m \u001b[0mclass_counts\u001b[0m \u001b[0;34m=\u001b[0m \u001b[0;34m[\u001b[0m\u001b[0mlen\u001b[0m\u001b[0;34m(\u001b[0m\u001b[0mos\u001b[0m\u001b[0;34m.\u001b[0m\u001b[0mlistdir\u001b[0m\u001b[0;34m(\u001b[0m\u001b[0mos\u001b[0m\u001b[0;34m.\u001b[0m\u001b[0mpath\u001b[0m\u001b[0;34m.\u001b[0m\u001b[0mjoin\u001b[0m\u001b[0;34m(\u001b[0m\u001b[0mtrain_path\u001b[0m\u001b[0;34m,\u001b[0m \u001b[0mclass_name\u001b[0m\u001b[0;34m)\u001b[0m\u001b[0;34m)\u001b[0m\u001b[0;34m)\u001b[0m \u001b[0;32mfor\u001b[0m \u001b[0mclass_name\u001b[0m \u001b[0;32min\u001b[0m \u001b[0mclasses\u001b[0m\u001b[0;34m]\u001b[0m\u001b[0;34m\u001b[0m\u001b[0;34m\u001b[0m\u001b[0m\n\u001b[1;32m      4\u001b[0m \u001b[0;34m\u001b[0m\u001b[0m\n\u001b[1;32m      5\u001b[0m \u001b[0mplt\u001b[0m\u001b[0;34m.\u001b[0m\u001b[0mfigure\u001b[0m\u001b[0;34m(\u001b[0m\u001b[0mfigsize\u001b[0m\u001b[0;34m=\u001b[0m\u001b[0;34m(\u001b[0m\u001b[0;36m10\u001b[0m\u001b[0;34m,\u001b[0m \u001b[0;36m6\u001b[0m\u001b[0;34m)\u001b[0m\u001b[0;34m)\u001b[0m\u001b[0;34m\u001b[0m\u001b[0;34m\u001b[0m\u001b[0m\n",
            "\u001b[0;31mFileNotFoundError\u001b[0m: [Errno 2] No such file or directory: '/content/drive/MyDrive/Waste management system/TRAIN'"
          ]
        }
      ]
    },
    {
      "cell_type": "code",
      "source": [
        "# Let's augmented Organic data\n",
        "import cv2\n",
        "import os\n",
        "\n",
        "# Specifing the path for dataset\n",
        "original_train_data_path =train_path\n",
        "original_test_data_path=test_path\n",
        "\n",
        "# path for saving augmented dataset\n",
        "augmented_train_data_path = \"/content/drive/MyDrive/Waste management system/AgumentedTrain\"\n",
        "augmented_test_data_path=\"/content/drive/MyDrive/Waste management system/AgumentedTest\"\n",
        "\n",
        "# Ensure the augmented dataset directory exists\n",
        "os.makedirs(augmented_train_data_path, exist_ok=True)\n",
        "os.makedirs(augmented_test_data_path, exist_ok=True)\n",
        "\n",
        "# List the classes in your dataset\n",
        "train_classes = os.listdir(original_train_data_path)\n",
        "test_classes = os.listdir(original_test_data_path)\n",
        "\n",
        "# Define the minority class (organic) and majority class (recyclable)\n",
        "minority_class = \"O\"\n",
        "majority_class = \"R\"\n",
        "\n",
        "# Specify the desired number of augmented images for the minority class\n",
        "desired_min_class_samples = 3000 # Adjust as needed\n",
        "\n",
        "# Iterate over each class\n",
        "for class_name in train_classes:\n",
        "    class_path_original = os.path.join(original_train_data_path, class_name)\n",
        "    class_path_augmented = os.path.join(augmented_train_data_path, class_name)\n",
        "\n",
        "    # Ensure the augmented class directory exists\n",
        "    os.makedirs(class_path_augmented, exist_ok=True)\n",
        "\n",
        "    # Determine the number of images in the current class\n",
        "    num_images = len(os.listdir(class_path_original))\n",
        "\n",
        "    # Determine whether the current class is the minority or majority class\n",
        "    is_minority_class = class_name == minority_class\n",
        "\n",
        "    # Determine the number of augmented images needed for the minority class\n",
        "    if is_minority_class:\n",
        "        num_augmented_images = max(0, desired_min_class_samples - num_images)\n",
        "    else:\n",
        "        num_augmented_images = 0\n",
        "\n",
        "    # Iterate over each image in the class\n",
        "    for image_name in os.listdir(class_path_original):\n",
        "        image_path_original = os.path.join(class_path_original, image_name)\n",
        "\n",
        "        # Read the original image\n",
        "        original_image = cv2.imread(image_path_original)\n",
        "\n",
        "        # Apply data augmentation only to the minority class\n",
        "        if is_minority_class:\n",
        "            # Example: Rotation\n",
        "            # Adjust parameters as needed\n",
        "            angle = 50\n",
        "            M = cv2.getRotationMatrix2D((original_image.shape[1] / 2, original_image.shape[0] / 2), angle, 1)\n",
        "            augmented_image = cv2.warpAffine(original_image, M, (original_image.shape[1], original_image.shape[0]))\n",
        "\n",
        "            # Save the augmented image\n",
        "            augmented_image_name = f\"augmented_{image_name}\"\n",
        "            augmented_image_path = os.path.join(class_path_augmented, augmented_image_name)\n",
        "            cv2.imwrite(augmented_image_path, augmented_image)\n",
        "        else:\n",
        "            # Copy the original image for the majority class\n",
        "            augmented_image_path = os.path.join(class_path_augmented, image_name)\n",
        "            cv2.imwrite(augmented_image_path, original_image)"
      ],
      "metadata": {
        "id": "hxQynze73_26",
        "colab": {
          "base_uri": "https://localhost:8080/",
          "height": 245
        },
        "outputId": "aa44c943-b7b5-45bd-971e-19155fcee7b0"
      },
      "execution_count": null,
      "outputs": [
        {
          "output_type": "error",
          "ename": "FileNotFoundError",
          "evalue": "[Errno 2] No such file or directory: '/content/drive/MyDrive/Waste management system/TRAIN'",
          "traceback": [
            "\u001b[0;31m---------------------------------------------------------------------------\u001b[0m",
            "\u001b[0;31mFileNotFoundError\u001b[0m                         Traceback (most recent call last)",
            "\u001b[0;32m<ipython-input-12-b7fec0e926bf>\u001b[0m in \u001b[0;36m<cell line: 18>\u001b[0;34m()\u001b[0m\n\u001b[1;32m     16\u001b[0m \u001b[0;34m\u001b[0m\u001b[0m\n\u001b[1;32m     17\u001b[0m \u001b[0;31m# List the classes in your dataset\u001b[0m\u001b[0;34m\u001b[0m\u001b[0;34m\u001b[0m\u001b[0m\n\u001b[0;32m---> 18\u001b[0;31m \u001b[0mtrain_classes\u001b[0m \u001b[0;34m=\u001b[0m \u001b[0mos\u001b[0m\u001b[0;34m.\u001b[0m\u001b[0mlistdir\u001b[0m\u001b[0;34m(\u001b[0m\u001b[0moriginal_train_data_path\u001b[0m\u001b[0;34m)\u001b[0m\u001b[0;34m\u001b[0m\u001b[0;34m\u001b[0m\u001b[0m\n\u001b[0m\u001b[1;32m     19\u001b[0m \u001b[0mtest_classes\u001b[0m \u001b[0;34m=\u001b[0m \u001b[0mos\u001b[0m\u001b[0;34m.\u001b[0m\u001b[0mlistdir\u001b[0m\u001b[0;34m(\u001b[0m\u001b[0moriginal_test_data_path\u001b[0m\u001b[0;34m)\u001b[0m\u001b[0;34m\u001b[0m\u001b[0;34m\u001b[0m\u001b[0m\n\u001b[1;32m     20\u001b[0m \u001b[0;34m\u001b[0m\u001b[0m\n",
            "\u001b[0;31mFileNotFoundError\u001b[0m: [Errno 2] No such file or directory: '/content/drive/MyDrive/Waste management system/TRAIN'"
          ]
        }
      ]
    },
    {
      "cell_type": "code",
      "source": [
        "augmented_train_data_path = \"/content/drive/MyDrive/Waste management system/AgumentedTrain\""
      ],
      "metadata": {
        "id": "SklnWgJF-3gF"
      },
      "execution_count": null,
      "outputs": []
    },
    {
      "cell_type": "markdown",
      "source": [
        "# Number of images for training dataset"
      ],
      "metadata": {
        "id": "6_Uv7UmSQmfA"
      }
    },
    {
      "cell_type": "code",
      "source": [
        "train_classes = os.listdir(augmented_train_data_path)\n",
        "\n",
        "# Dictionary to store class counts\n",
        "class_counts = {}\n",
        "\n",
        "# Iterate over each class\n",
        "for class_name in train_classes:\n",
        "    class_path = os.path.join(augmented_train_data_path, class_name)\n",
        "\n",
        "    # Count the number of images in the class\n",
        "    num_images = len([file for file in os.listdir(class_path) if file.endswith('.jpg')])  # Adjust the file extension as needed\n",
        "\n",
        "    # Store the count in the dictionary\n",
        "    class_counts[class_name] = num_images\n",
        "\n",
        "# Print the class counts\n",
        "for class_name, count in class_counts.items():\n",
        "    print(f\"Class: {class_name}, Number of Images: {count}\")"
      ],
      "metadata": {
        "colab": {
          "base_uri": "https://localhost:8080/"
        },
        "id": "CNC2Oz_eKyHD",
        "outputId": "a8403dfb-9e85-49ae-bc2f-dd5d3d0a6823"
      },
      "execution_count": null,
      "outputs": [
        {
          "output_type": "stream",
          "name": "stdout",
          "text": [
            "Class: O, Number of Images: 3740\n",
            "Class: R, Number of Images: 9999\n"
          ]
        }
      ]
    },
    {
      "cell_type": "markdown",
      "source": [
        "# Number of images in Testing dataset"
      ],
      "metadata": {
        "id": "c7NLxlJUQrfn"
      }
    },
    {
      "cell_type": "markdown",
      "source": [],
      "metadata": {
        "id": "FljkyX9BQuaR"
      }
    },
    {
      "cell_type": "markdown",
      "source": [],
      "metadata": {
        "id": "n4ETty6uQueD"
      }
    },
    {
      "cell_type": "code",
      "source": [
        "test_classes = os.listdir(test_path)\n",
        "\n",
        "# Dictionary to store class counts\n",
        "class_counts = {}\n",
        "\n",
        "# Iterate over each class\n",
        "for class_name in test_classes:\n",
        "    class_path = os.path.join(test_path, class_name)\n",
        "\n",
        "    # Count the number of images in the class\n",
        "    num_images = len([file for file in os.listdir(class_path)])  # Adjust the file extension as needed\n",
        "\n",
        "    # Store the count in the dictionary\n",
        "    class_counts[class_name] = num_images\n",
        "\n",
        "# Print the class counts\n",
        "for class_name, count in class_counts.items():\n",
        "    print(f\"Class: {class_name}, Number of Images: {count}\")"
      ],
      "metadata": {
        "colab": {
          "base_uri": "https://localhost:8080/"
        },
        "id": "bEHK7kiOQxG9",
        "outputId": "96bf4c00-5185-41af-f43c-ed096ef979ab"
      },
      "execution_count": null,
      "outputs": [
        {
          "output_type": "stream",
          "name": "stdout",
          "text": [
            "Class: O, Number of Images: 1401\n",
            "Class: R, Number of Images: 520\n"
          ]
        }
      ]
    },
    {
      "cell_type": "markdown",
      "source": [
        "⏰# **It is clear that we still have imbalance in our both training and testing dataset so tha at least we have to increase the number of image for organic dataset up to 8 thousands. **"
      ],
      "metadata": {
        "id": "IZ8hqkTGJ_3k"
      }
    },
    {
      "cell_type": "markdown",
      "source": [
        "# Lest try to fit the model to the training dataset by using CNN"
      ],
      "metadata": {
        "id": "u-gNx1-xMnRr"
      }
    },
    {
      "cell_type": "markdown",
      "source": [
        "## 1. We start by spliting dataset for training, validation, and testing"
      ],
      "metadata": {
        "id": "RfX4F8oWQMTg"
      }
    },
    {
      "cell_type": "code",
      "source": [
        "from sklearn.model_selection import train_test_split\n",
        "test_path = test_path\n",
        "classes = os.listdir(augmented_train_data_path)\n",
        "\n",
        "class_paths = {}\n",
        "\n",
        "# Iterating over each class\n",
        "for class_name in classes:\n",
        "    class_path = os.path.join(augmented_train_data_path, class_name)\n",
        "    class_paths[class_name] = [os.path.join(class_path, file) for file in os.listdir(class_path)]\n",
        "\n",
        "# Dictionary to store train and validation sets for each class\n",
        "data_splits = {'train': {}, 'val': {}}\n",
        "random_seed = 42\n",
        "\n",
        "# Iterate over each class\n",
        "for class_name, paths in class_paths.items():\n",
        "    # Split the data into train and validation sets\n",
        "    train_set, val_set = train_test_split(paths, test_size=0.2, random_state=random_seed)\n",
        "\n",
        "    # Store the sets in the dictionary\n",
        "    data_splits['train'][class_name] = train_set\n",
        "    data_splits['val'][class_name] = val_set\n",
        "\n",
        "# Print the number of samples in each set for each class\n",
        "for split_name, split_data in data_splits.items():\n",
        "    print(f\"\\n{split_name.capitalize()} Set:\")\n",
        "    for class_name, samples in split_data.items():\n",
        "        print(f\"Class: {class_name}, Number of Samples: {len(samples)}\")"
      ],
      "metadata": {
        "colab": {
          "base_uri": "https://localhost:8080/"
        },
        "id": "R-ZsKMOyJ_gZ",
        "outputId": "2b76aa83-6f0e-4848-9f25-3cdcf4383b9c"
      },
      "execution_count": null,
      "outputs": [
        {
          "output_type": "stream",
          "name": "stdout",
          "text": [
            "\n",
            "Train Set:\n",
            "Class: O, Number of Samples: 2992\n",
            "Class: R, Number of Samples: 7999\n",
            "\n",
            "Val Set:\n",
            "Class: O, Number of Samples: 748\n",
            "Class: R, Number of Samples: 2000\n"
          ]
        }
      ]
    },
    {
      "cell_type": "code",
      "source": [
        "train_datagen = ImageDataGenerator(\n",
        "    rescale=1./255,\n",
        "    rotation_range=20,\n",
        "    width_shift_range=0.2,\n",
        "    height_shift_range=0.2,\n",
        "    shear_range=0.2,\n",
        "    zoom_range=0.2,\n",
        "    horizontal_flip=True,\n",
        "    fill_mode='nearest',\n",
        "    validation_split=0.2  # Set the validation split\n",
        ")\n",
        "\n",
        "train_generator = train_datagen.flow_from_directory(\n",
        "    augmented_train_data_path,\n",
        "    target_size=(256, 256),\n",
        "    batch_size=32,\n",
        "    class_mode='binary',  # or 'binary' depending on your problem\n",
        "    subset='training'  # Specify 'training' for the training set\n",
        ")\n",
        "\n",
        "val_generator = train_datagen.flow_from_directory(\n",
        "    augmented_train_data_path,\n",
        "    target_size=(256, 256),\n",
        "    batch_size=32,\n",
        "    class_mode='binary',\n",
        "    subset='validation'\n",
        ")"
      ],
      "metadata": {
        "colab": {
          "base_uri": "https://localhost:8080/"
        },
        "id": "G2tVUFBEcxCW",
        "outputId": "c5af5d81-7c57-4917-e0ba-f18165ede2a9"
      },
      "execution_count": null,
      "outputs": [
        {
          "output_type": "stream",
          "name": "stdout",
          "text": [
            "Found 10992 images belonging to 2 classes.\n",
            "Found 2747 images belonging to 2 classes.\n"
          ]
        }
      ]
    },
    {
      "cell_type": "code",
      "source": [
        "test = train_datagen.flow_from_directory(\n",
        "    test_path,\n",
        "    target_size=(256, 256),\n",
        "    batch_size=32,\n",
        "    class_mode='binary',\n",
        "    subset='validation'\n",
        ")"
      ],
      "metadata": {
        "id": "KbIpxxKRWSPm",
        "colab": {
          "base_uri": "https://localhost:8080/"
        },
        "outputId": "bab7c7cf-3a8d-45d4-ab2d-e490f03fc3d5"
      },
      "execution_count": null,
      "outputs": [
        {
          "output_type": "stream",
          "name": "stdout",
          "text": [
            "Found 384 images belonging to 2 classes.\n"
          ]
        }
      ]
    },
    {
      "cell_type": "markdown",
      "source": [
        "## 2. importing dependencies for Tensorflow"
      ],
      "metadata": {
        "id": "d_Zo9wEEYPAF"
      }
    },
    {
      "cell_type": "code",
      "source": [
        "from tensorflow.keras.models import Sequential\n",
        "from tensorflow.keras.layers import Conv2D, MaxPooling2D, Dense, Flatten, Dropout\n",
        "model= Sequential()"
      ],
      "metadata": {
        "id": "1K397EiA1c4J"
      },
      "execution_count": null,
      "outputs": []
    },
    {
      "cell_type": "code",
      "source": [
        "# Building a model by adding layers\n",
        "model.add(Conv2D(16, (3,3), 1, activation= \"relu\", input_shape=(256,256,3)))\n",
        "model.add(MaxPooling2D())\n",
        "\n",
        "model.add(Conv2D(32, (3,3), 1, activation=\"relu\"))\n",
        "model.add(MaxPooling2D())\n",
        "\n",
        "model.add(Conv2D(16, (3,3), 1, activation=\"relu\"))\n",
        "model.add(MaxPooling2D())\n",
        "\n",
        "model.add(Flatten())\n",
        "\n",
        "model.add(Dense(256, activation=\"relu\"))\n",
        "model.add(Dense(1, activation=\"sigmoid\"))\n",
        "model.compile(\"adam\", loss=tf.losses.BinaryCrossentropy(), metrics=[\"accuracy\"])\n",
        "model.summary()"
      ],
      "metadata": {
        "colab": {
          "base_uri": "https://localhost:8080/"
        },
        "id": "AEJWVyD2Zmky",
        "outputId": "b29d0cbd-bef5-46ca-d0f7-cc7869a1dd47"
      },
      "execution_count": null,
      "outputs": [
        {
          "output_type": "stream",
          "name": "stdout",
          "text": [
            "Model: \"sequential\"\n",
            "_________________________________________________________________\n",
            " Layer (type)                Output Shape              Param #   \n",
            "=================================================================\n",
            " conv2d (Conv2D)             (None, 254, 254, 16)      448       \n",
            "                                                                 \n",
            " max_pooling2d (MaxPooling2  (None, 127, 127, 16)      0         \n",
            " D)                                                              \n",
            "                                                                 \n",
            " conv2d_1 (Conv2D)           (None, 125, 125, 32)      4640      \n",
            "                                                                 \n",
            " max_pooling2d_1 (MaxPoolin  (None, 62, 62, 32)        0         \n",
            " g2D)                                                            \n",
            "                                                                 \n",
            " conv2d_2 (Conv2D)           (None, 60, 60, 16)        4624      \n",
            "                                                                 \n",
            " max_pooling2d_2 (MaxPoolin  (None, 30, 30, 16)        0         \n",
            " g2D)                                                            \n",
            "                                                                 \n",
            " flatten (Flatten)           (None, 14400)             0         \n",
            "                                                                 \n",
            " dense (Dense)               (None, 256)               3686656   \n",
            "                                                                 \n",
            " dense_1 (Dense)             (None, 1)                 257       \n",
            "                                                                 \n",
            "=================================================================\n",
            "Total params: 3696625 (14.10 MB)\n",
            "Trainable params: 3696625 (14.10 MB)\n",
            "Non-trainable params: 0 (0.00 Byte)\n",
            "_________________________________________________________________\n"
          ]
        }
      ]
    },
    {
      "cell_type": "markdown",
      "source": [
        "## 3. Training model by fitting it to the training data"
      ],
      "metadata": {
        "id": "_trtOSpX1pNr"
      }
    },
    {
      "cell_type": "markdown",
      "source": [
        "We have to save our model so that anytime I can access the trained model\n",
        "\n",
        "\n"
      ],
      "metadata": {
        "id": "ywyivHECmUKl"
      }
    },
    {
      "cell_type": "code",
      "source": [
        "logdir=\"logs\""
      ],
      "metadata": {
        "id": "PtWflwRe1olz"
      },
      "execution_count": null,
      "outputs": []
    },
    {
      "cell_type": "code",
      "source": [
        "gpus=tf.config.experimental.list_physical_devices(\"GPU\")\n",
        "for gpu in gpus:\n",
        "  tf.config.experimental.set_memory_growth(gpu,True)"
      ],
      "metadata": {
        "id": "y54oFRivnLGG"
      },
      "execution_count": null,
      "outputs": []
    },
    {
      "cell_type": "markdown",
      "source": [
        "Saving the model"
      ],
      "metadata": {
        "id": "NPFIpRP7hsW7"
      }
    },
    {
      "cell_type": "code",
      "source": [
        "tensorboard_callback=tf.keras.callbacks.TensorBoard(log_dir=logdir)"
      ],
      "metadata": {
        "id": "UebiWlHFhY_q"
      },
      "execution_count": null,
      "outputs": []
    },
    {
      "cell_type": "code",
      "source": [
        "drive_path = '/content/drive/MyDrive/Waste management system'\n",
        "if not os.path.exists(drive_path):\n",
        "    os.makedirs(drive_path)"
      ],
      "metadata": {
        "id": "b30U7CuN-SMd"
      },
      "execution_count": null,
      "outputs": []
    },
    {
      "cell_type": "code",
      "source": [
        "from tensorflow.keras.callbacks import TensorBoard, ModelCheckpoint\n",
        "model_checkpoint_callback = ModelCheckpoint(\n",
        "    filepath=os.path.join(drive_path, 'my_model.keras'),\n",
        "    save_best_only=True,\n",
        "    monitor='val_loss',\n",
        "    mode='min',\n",
        "    verbose=1\n",
        ")"
      ],
      "metadata": {
        "id": "r5uixxqtnQEB"
      },
      "execution_count": null,
      "outputs": []
    },
    {
      "cell_type": "code",
      "source": [
        "history=model.fit(train_generator, epochs=10, validation_data=val_generator, callbacks=[tensorboard_callback, model_checkpoint_callback])"
      ],
      "metadata": {
        "id": "obqC4oYBhwRe",
        "colab": {
          "base_uri": "https://localhost:8080/"
        },
        "outputId": "017fde16-f6b0-4f0e-c608-fd46527beda1"
      },
      "execution_count": null,
      "outputs": [
        {
          "output_type": "stream",
          "name": "stdout",
          "text": [
            "Epoch 1/10\n",
            "344/344 [==============================] - ETA: 0s - loss: 0.1101 - accuracy: 0.9612\n",
            "Epoch 1: val_loss improved from inf to 0.04156, saving model to /content/drive/MyDrive/Waste management system/my_model.keras\n",
            "344/344 [==============================] - 3453s 10s/step - loss: 0.1101 - accuracy: 0.9612 - val_loss: 0.0416 - val_accuracy: 0.9880\n",
            "Epoch 2/10\n",
            "344/344 [==============================] - ETA: 0s - loss: 0.0415 - accuracy: 0.9865\n",
            "Epoch 2: val_loss improved from 0.04156 to 0.02175, saving model to /content/drive/MyDrive/Waste management system/my_model.keras\n",
            "344/344 [==============================] - 241s 702ms/step - loss: 0.0415 - accuracy: 0.9865 - val_loss: 0.0218 - val_accuracy: 0.9931\n",
            "Epoch 3/10\n",
            "344/344 [==============================] - ETA: 0s - loss: 0.0268 - accuracy: 0.9909\n",
            "Epoch 3: val_loss did not improve from 0.02175\n",
            "344/344 [==============================] - 239s 696ms/step - loss: 0.0268 - accuracy: 0.9909 - val_loss: 0.0253 - val_accuracy: 0.9920\n",
            "Epoch 4/10\n",
            "344/344 [==============================] - ETA: 0s - loss: 0.0218 - accuracy: 0.9938\n",
            "Epoch 4: val_loss improved from 0.02175 to 0.02056, saving model to /content/drive/MyDrive/Waste management system/my_model.keras\n",
            "344/344 [==============================] - 241s 700ms/step - loss: 0.0218 - accuracy: 0.9938 - val_loss: 0.0206 - val_accuracy: 0.9924\n",
            "Epoch 5/10\n",
            "344/344 [==============================] - ETA: 0s - loss: 0.0242 - accuracy: 0.9920\n",
            "Epoch 5: val_loss did not improve from 0.02056\n",
            "344/344 [==============================] - 242s 704ms/step - loss: 0.0242 - accuracy: 0.9920 - val_loss: 0.0366 - val_accuracy: 0.9880\n",
            "Epoch 6/10\n",
            "344/344 [==============================] - ETA: 0s - loss: 0.0229 - accuracy: 0.9929\n",
            "Epoch 6: val_loss did not improve from 0.02056\n",
            "344/344 [==============================] - 244s 709ms/step - loss: 0.0229 - accuracy: 0.9929 - val_loss: 0.0208 - val_accuracy: 0.9927\n",
            "Epoch 7/10\n",
            "344/344 [==============================] - ETA: 0s - loss: 0.0211 - accuracy: 0.9937\n",
            "Epoch 7: val_loss did not improve from 0.02056\n",
            "344/344 [==============================] - 237s 688ms/step - loss: 0.0211 - accuracy: 0.9937 - val_loss: 0.0279 - val_accuracy: 0.9916\n",
            "Epoch 8/10\n",
            "344/344 [==============================] - ETA: 0s - loss: 0.0190 - accuracy: 0.9934\n",
            "Epoch 8: val_loss did not improve from 0.02056\n",
            "344/344 [==============================] - 231s 673ms/step - loss: 0.0190 - accuracy: 0.9934 - val_loss: 0.0241 - val_accuracy: 0.9927\n",
            "Epoch 9/10\n",
            "344/344 [==============================] - ETA: 0s - loss: 0.0215 - accuracy: 0.9934\n",
            "Epoch 9: val_loss improved from 0.02056 to 0.01966, saving model to /content/drive/MyDrive/Waste management system/my_model.keras\n",
            "344/344 [==============================] - 268s 779ms/step - loss: 0.0215 - accuracy: 0.9934 - val_loss: 0.0197 - val_accuracy: 0.9924\n",
            "Epoch 10/10\n",
            "344/344 [==============================] - ETA: 0s - loss: 0.0214 - accuracy: 0.9934\n",
            "Epoch 10: val_loss improved from 0.01966 to 0.01911, saving model to /content/drive/MyDrive/Waste management system/my_model.keras\n",
            "344/344 [==============================] - 245s 712ms/step - loss: 0.0214 - accuracy: 0.9934 - val_loss: 0.0191 - val_accuracy: 0.9938\n"
          ]
        }
      ]
    },
    {
      "cell_type": "code",
      "source": [
        "model.save('/content/drive/MyDrive/Waste management system/final_model.keras')"
      ],
      "metadata": {
        "id": "7_7LTY17D_DY"
      },
      "execution_count": null,
      "outputs": []
    },
    {
      "cell_type": "code",
      "source": [
        "from tensorflow.keras.models import load_model\n",
        "\n",
        "loaded_model = load_model('/content/drive/MyDrive/Waste management system/final_model.keras')"
      ],
      "metadata": {
        "id": "hzGqs8pT1ciQ"
      },
      "execution_count": null,
      "outputs": []
    },
    {
      "cell_type": "markdown",
      "source": [
        "# Plotting model performance"
      ],
      "metadata": {
        "id": "r72HVqTvG-I8"
      }
    },
    {
      "cell_type": "code",
      "source": [
        "fig= plt.figure()\n",
        "plt.plot(history.history['loss'], color=\"teal\", label=\"loss\")\n",
        "plt.plot(history.history[\"val_loss\"], color=\"orange\", label=\"val_loss\")\n",
        "fig.suptitle(\"Loss\", fontsize=20)\n",
        "plt.legend(loc=\"upper left\")\n",
        "plt.show()"
      ],
      "metadata": {
        "colab": {
          "base_uri": "https://localhost:8080/",
          "height": 478
        },
        "id": "vFmWdWy7A6PF",
        "outputId": "d1a2846c-1ad2-41b9-cd90-b7533ab11181"
      },
      "execution_count": null,
      "outputs": [
        {
          "output_type": "display_data",
          "data": {
            "text/plain": [
              "<Figure size 640x480 with 1 Axes>"
            ],
            "image/png": "[encoded data removed]"
          },
          "metadata": {}
        }
      ]
    },
    {
      "cell_type": "code",
      "source": [
        "fig=plt.figure()\n",
        "plt.plot(history.history[\"accuracy\"], color=\"teal\", label=\"accuracy\")\n",
        "plt.plot(history.history[\"val_accuracy\"], color=\"orange\", label=\"val_accuracy\")\n",
        "fig.suptitle(\"Accuracy\", fontsize=20)\n",
        "plt.legend(loc=\"upper right\")\n",
        "plt.show()"
      ],
      "metadata": {
        "id": "C8JOFSCQCkzH",
        "colab": {
          "base_uri": "https://localhost:8080/",
          "height": 478
        },
        "outputId": "315aa7c9-7471-4f81-f83c-93c540371cbc"
      },
      "execution_count": null,
      "outputs": [
        {
          "output_type": "display_data",
          "data": {
            "text/plain": [
              "<Figure size 640x480 with 1 Axes>"
            ],
            "image/png": "[encoded data removed]"
          },
          "metadata": {}
        }
      ]
    },
    {
      "cell_type": "markdown",
      "source": [
        "# Evaluating model performance"
      ],
      "metadata": {
        "id": "QObb9X_QHF3H"
      }
    },
    {
      "cell_type": "code",
      "source": [
        "from tensorflow.keras.metrics import Precision, Recall, BinaryAccuracy\n",
        "pre=Precision()\n",
        "re=Recall()\n",
        "acc=BinaryAccuracy()\n"
      ],
      "metadata": {
        "id": "t8VrwAz8iN8y"
      },
      "execution_count": null,
      "outputs": []
    },
    {
      "cell_type": "code",
      "source": [
        "test_data_gen = ImageDataGenerator(rescale=1./255)\n",
        "test_generator = test_data_gen.flow_from_directory(\n",
        "    test_path,\n",
        "    target_size=(256, 256),\n",
        "    batch_size=32,\n",
        "    class_mode='binary',\n",
        "    shuffle=False\n",
        ")\n"
      ],
      "metadata": {
        "colab": {
          "base_uri": "https://localhost:8080/"
        },
        "id": "-8aLIM_j5JPo",
        "outputId": "1366f1e7-5612-4a93-d2e0-43a4c25a7c9c"
      },
      "execution_count": null,
      "outputs": [
        {
          "output_type": "stream",
          "name": "stdout",
          "text": [
            "Found 1921 images belonging to 2 classes.\n"
          ]
        }
      ]
    },
    {
      "cell_type": "code",
      "source": [
        "import numpy as np\n",
        "threshold = 0.5\n",
        "for batch in range(len(test_generator)):\n",
        "    X, y = next(test_generator)\n",
        "    yhat = model.predict(X)\n",
        "    yhat2 = np.reshape(yhat, (yhat.shape[0], -1))\n",
        "    binary_predictions = (yhat2 > threshold).astype(int)\n",
        "    y2 = np.reshape(y, (y.shape[0], -1))\n",
        "    pre.update_state(y2, binary_predictions.argmax(axis=-1))\n",
        "    re.update_state(y2, binary_predictions.argmax(axis=-1))\n"
      ],
      "metadata": {
        "id": "Ar4gE45jHDye"
      },
      "execution_count": null,
      "outputs": []
    },
    {
      "cell_type": "code",
      "source": [
        "precision_result = pre.result().numpy()\n",
        "recall_result = re.result().numpy()\n",
        "\n",
        "# accuracy based on true positives, true negatives, false positives, and false negatives\n",
        "true_positives = np.sum((binary_predictions == 1) & (y2 == 1))\n",
        "true_negatives = np.sum((binary_predictions == 0) & (y2 == 0))\n",
        "false_positives = np.sum((binary_predictions == 1) & (y2 == 0))\n",
        "false_negatives = np.sum((binary_predictions == 0) & (y2 == 1))\n",
        "accuracy_result = (true_positives + true_negatives) / (true_positives + true_negatives + false_positives + false_negatives)\n",
        "\n",
        "print(\"Precision:\", precision_result)\n",
        "print(\"Recall:\", recall_result)\n",
        "print(\"Accuracy:\", accuracy_result)"
      ],
      "metadata": {
        "colab": {
          "base_uri": "https://localhost:8080/"
        },
        "id": "sRZknMnFWy7G",
        "outputId": "a06707be-ae96-4b4d-c4e3-52d28b5d0cdd"
      },
      "execution_count": null,
      "outputs": [
        {
          "output_type": "stream",
          "name": "stdout",
          "text": [
            "Precision: 0.10625\n",
            "Recall: 0.098076925\n",
            "Accuracy: 0.9779307047526041\n"
          ]
        }
      ]
    },
    {
      "cell_type": "markdown",
      "source": [
        "# Precision: 0.10625 (approximately)\n",
        "\n",
        "This indicates that when the model predicts the positive class, it is correct about 10.6% of the time. ⏬ We have to increase this if possible\n",
        "Recall: 0.098076925 (approximately)\n",
        "\n",
        "This suggests that the model is able to capture about 9.8% of the actual positive instances.\n",
        "Accuracy: 0.9779307047526041 (approximately) ⏫ The same here, it will be great if we increase this.\n",
        "\n",
        "This indicates the overall correctness of the model's predictions across all classes, and it's around 97.8%.::: ✅ So far so good.\n",
        "# Thus, I would propose to keep it like this because I have trained this model for 2 days, but if we get a high speed internet and strong computer we can increase the Precision and Recall."
      ],
      "metadata": {
        "id": "sIoOddcqYNxH"
      }
    }
  ]
}